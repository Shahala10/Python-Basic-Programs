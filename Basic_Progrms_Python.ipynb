{
  "nbformat": 4,
  "nbformat_minor": 0,
  "metadata": {
    "colab": {
      "provenance": [],
      "toc_visible": true,
      "authorship_tag": "ABX9TyMLb/SikOkiLrkb9Odj1rox",
      "include_colab_link": true
    },
    "kernelspec": {
      "name": "python3",
      "display_name": "Python 3"
    },
    "language_info": {
      "name": "python"
    }
  },
  "cells": [
    {
      "cell_type": "markdown",
      "metadata": {
        "id": "view-in-github",
        "colab_type": "text"
      },
      "source": [
        "<a href=\"https://colab.research.google.com/github/Shahala10/Python-Basic-Programs/blob/main/Basic_Progrms_Python.ipynb\" target=\"_parent\"><img src=\"https://colab.research.google.com/assets/colab-badge.svg\" alt=\"Open In Colab\"/></a>"
      ]
    },
    {
      "cell_type": "code",
      "source": [
        "a=9\n",
        "b=10\n",
        "print(a+b)"
      ],
      "metadata": {
        "colab": {
          "base_uri": "https://localhost:8080/"
        },
        "id": "GXmvhAgECbRK",
        "outputId": "27eeeca9-f8b2-491f-f54c-f943def83f76"
      },
      "execution_count": null,
      "outputs": [
        {
          "output_type": "stream",
          "name": "stdout",
          "text": [
            "19\n"
          ]
        }
      ]
    },
    {
      "cell_type": "code",
      "source": [
        "a=int(input(\"enter a value for a:\"))\n",
        "b=int(input(\"enter a value for b:\"))\n",
        "print(a+b)\n",
        "print(a-b)\n",
        "print(a*b)\n",
        "print(a/b)"
      ],
      "metadata": {
        "colab": {
          "base_uri": "https://localhost:8080/"
        },
        "id": "rvtKKlBgDNJi",
        "outputId": "0cc3ca26-5eb0-4f9f-ccbb-2ebbecdb550f"
      },
      "execution_count": null,
      "outputs": [
        {
          "output_type": "stream",
          "name": "stdout",
          "text": [
            "enter a value for a:10\n",
            "enter a value for b:20\n",
            "30\n",
            "-10\n",
            "200\n",
            "0.5\n"
          ]
        }
      ]
    },
    {
      "cell_type": "code",
      "source": [
        "a=int(input(\"Enter the value for A:\"))\n",
        "b=int(input(\"Enter the value for B:\"))\n",
        "if(a>b):\n",
        "  print(\"A is greater than B\")\n",
        "elif(b>a):\n",
        "  print(\"B is greater than A\")\n",
        "else:\n",
        "  print(\"A is equal to B\")"
      ],
      "metadata": {
        "colab": {
          "base_uri": "https://localhost:8080/"
        },
        "id": "LwBZxgM1FjWi",
        "outputId": "a7989883-c8ec-4170-a34f-173c7f8240fb"
      },
      "execution_count": null,
      "outputs": [
        {
          "output_type": "stream",
          "name": "stdout",
          "text": [
            "Enter the value for A:10\n",
            "Enter the value for B:34\n",
            "B is greater than A\n"
          ]
        }
      ]
    },
    {
      "cell_type": "code",
      "source": [
        "number=int(input())\n",
        "\n",
        "\n",
        "print(\"Multiplication Table for\",number,\":\")\n",
        "for i in range(1,11):\n",
        "  result = number * i\n",
        "  print(f\"{number} x {i}={result}\")"
      ],
      "metadata": {
        "colab": {
          "base_uri": "https://localhost:8080/"
        },
        "id": "-W6LyPp0JfmQ",
        "outputId": "55380dd4-6c5e-41e2-eb29-96f581d4e626"
      },
      "execution_count": null,
      "outputs": [
        {
          "output_type": "stream",
          "name": "stdout",
          "text": [
            "12\n",
            "Multiplication Table for 12 :\n",
            "12 x 1=12\n",
            "12 x 2=24\n",
            "12 x 3=36\n",
            "12 x 4=48\n",
            "12 x 5=60\n",
            "12 x 6=72\n",
            "12 x 7=84\n",
            "12 x 8=96\n",
            "12 x 9=108\n",
            "12 x 10=120\n"
          ]
        }
      ]
    },
    {
      "cell_type": "code",
      "source": [
        "number=int(input())\n",
        "\n",
        "i=1\n",
        "print(\"Multiplication table for\",number,\":\")\n",
        "while i<11:\n",
        "  result = number * i\n",
        "  print(f\"{number} x {i} = {result}\")\n",
        "  i=i+1"
      ],
      "metadata": {
        "colab": {
          "base_uri": "https://localhost:8080/"
        },
        "id": "68tEIhd0QXGF",
        "outputId": "ec8056ef-0548-4ef4-ec7f-f40bc21ae921"
      },
      "execution_count": 16,
      "outputs": [
        {
          "output_type": "stream",
          "name": "stdout",
          "text": [
            "15\n",
            "Multiplication table for 15 :\n",
            "15 x 1 = 15\n",
            "15 x 2 = 30\n",
            "15 x 3 = 45\n",
            "15 x 4 = 60\n",
            "15 x 5 = 75\n",
            "15 x 6 = 90\n",
            "15 x 7 = 105\n",
            "15 x 8 = 120\n",
            "15 x 9 = 135\n",
            "15 x 10 = 150\n"
          ]
        }
      ]
    },
    {
      "cell_type": "code",
      "source": [
        "def addition(a,b):\n",
        "   print(f\"Sum of {a},{b} = \",a+b)\n",
        "\n",
        "a=int(input(\"enter the value for a:\"))\n",
        "b=int(input(\"enter the value for b:\"))\n",
        "\n",
        "addition(a,b)"
      ],
      "metadata": {
        "colab": {
          "base_uri": "https://localhost:8080/"
        },
        "id": "44acWf4ER3vL",
        "outputId": "d39e5d2d-b198-4193-d8ae-d3f8725594d2"
      },
      "execution_count": 21,
      "outputs": [
        {
          "output_type": "stream",
          "name": "stdout",
          "text": [
            "enter the value for a:45\n",
            "enter the value for b:876\n",
            "Sum of 45,876 =  921\n"
          ]
        }
      ]
    },
    {
      "cell_type": "code",
      "source": [
        "def multiplication(c,d):\n",
        "    print(f\"Product of {c} , {d} = \", c*d)\n",
        "\n",
        "\n",
        "c=int(input(\"enter the value for c:\"))\n",
        "d=int(input(\"enter the value for d:\"))\n",
        "\n",
        "multiplication(c,d)"
      ],
      "metadata": {
        "colab": {
          "base_uri": "https://localhost:8080/"
        },
        "id": "k_gZwLRlZIA_",
        "outputId": "9d73f37e-df27-42fa-e06e-bb8a1bbf0d19"
      },
      "execution_count": 19,
      "outputs": [
        {
          "output_type": "stream",
          "name": "stdout",
          "text": [
            "enter the value for c:13\n",
            "enter the value for d:89\n",
            "Product of 13 , 89 =  1157\n"
          ]
        }
      ]
    },
    {
      "cell_type": "code",
      "source": [
        "def factorial (n):\n",
        "    if n==0:\n",
        "      return 1;\n",
        "\n",
        "    result=1\n",
        "    for i in range(1,n+1):\n",
        "       result *=i\n",
        "    return result\n",
        "\n",
        "\n",
        "a=int(input(\"enter the value \"))\n",
        "factorial(a)"
      ],
      "metadata": {
        "colab": {
          "base_uri": "https://localhost:8080/"
        },
        "id": "hX_lm5HLcJXH",
        "outputId": "4c85682c-7933-4e44-a5cb-6b0b67ddc5c6"
      },
      "execution_count": 28,
      "outputs": [
        {
          "name": "stdout",
          "output_type": "stream",
          "text": [
            "enter the value 5\n"
          ]
        },
        {
          "output_type": "execute_result",
          "data": {
            "text/plain": [
              "120"
            ]
          },
          "metadata": {},
          "execution_count": 28
        }
      ]
    },
    {
      "cell_type": "code",
      "source": [
        "def SUBTRACTION (num1,num2):\n",
        "    print(f\"Sub of {num1},{num2}= \",num1-num2)\n",
        "\n",
        "a=int(input(\"enter the value for a:\"))\n",
        "b=int(input(\"enter the value for b:\"))\n",
        "\n",
        "SUBTRACTION(a,b)"
      ],
      "metadata": {
        "colab": {
          "base_uri": "https://localhost:8080/"
        },
        "id": "ycQadFBFewA9",
        "outputId": "6524de4d-79d2-428c-a69d-55a9369f9f0c"
      },
      "execution_count": 31,
      "outputs": [
        {
          "output_type": "stream",
          "name": "stdout",
          "text": [
            "enter the value for a:78\n",
            "enter the value for b:67\n",
            "Sub of 78,67=  11\n"
          ]
        }
      ]
    }
  ]
}