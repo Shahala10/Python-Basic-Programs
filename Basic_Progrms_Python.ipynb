{
  "nbformat": 4,
  "nbformat_minor": 0,
  "metadata": {
    "colab": {
      "provenance": [],
      "toc_visible": true,
      "authorship_tag": "ABX9TyNVAES195I9J6SzQ0wpRSKp",
      "include_colab_link": true
    },
    "kernelspec": {
      "name": "python3",
      "display_name": "Python 3"
    },
    "language_info": {
      "name": "python"
    }
  },
  "cells": [
    {
      "cell_type": "markdown",
      "metadata": {
        "id": "view-in-github",
        "colab_type": "text"
      },
      "source": [
        "<a href=\"https://colab.research.google.com/github/Shahala10/Python-Basic-Programs/blob/main/Basic_Progrms_Python.ipynb\" target=\"_parent\"><img src=\"https://colab.research.google.com/assets/colab-badge.svg\" alt=\"Open In Colab\"/></a>"
      ]
    },
    {
      "cell_type": "code",
      "source": [
        "a=9\n",
        "b=10\n",
        "print(a+b)"
      ],
      "metadata": {
        "colab": {
          "base_uri": "https://localhost:8080/"
        },
        "id": "GXmvhAgECbRK",
        "outputId": "27eeeca9-f8b2-491f-f54c-f943def83f76"
      },
      "execution_count": null,
      "outputs": [
        {
          "output_type": "stream",
          "name": "stdout",
          "text": [
            "19\n"
          ]
        }
      ]
    },
    {
      "cell_type": "code",
      "source": [
        "a=int(input(\"enter a value for a:\"))\n",
        "b=int(input(\"enter a value for b:\"))\n",
        "print(a+b)\n",
        "print(a-b)\n",
        "print(a*b)\n",
        "print(a/b)"
      ],
      "metadata": {
        "colab": {
          "base_uri": "https://localhost:8080/"
        },
        "id": "rvtKKlBgDNJi",
        "outputId": "0cc3ca26-5eb0-4f9f-ccbb-2ebbecdb550f"
      },
      "execution_count": null,
      "outputs": [
        {
          "output_type": "stream",
          "name": "stdout",
          "text": [
            "enter a value for a:10\n",
            "enter a value for b:20\n",
            "30\n",
            "-10\n",
            "200\n",
            "0.5\n"
          ]
        }
      ]
    },
    {
      "cell_type": "code",
      "source": [
        "a=int(input(\"Enter the value for A:\"))\n",
        "b=int(input(\"Enter the value for B:\"))\n",
        "if(a>b):\n",
        "  print(\"A is greater than B\")\n",
        "elif(b>a):\n",
        "  print(\"B is greater than A\")\n",
        "else:\n",
        "  print(\"A is equal to B\")"
      ],
      "metadata": {
        "colab": {
          "base_uri": "https://localhost:8080/"
        },
        "id": "LwBZxgM1FjWi",
        "outputId": "a7989883-c8ec-4170-a34f-173c7f8240fb"
      },
      "execution_count": null,
      "outputs": [
        {
          "output_type": "stream",
          "name": "stdout",
          "text": [
            "Enter the value for A:10\n",
            "Enter the value for B:34\n",
            "B is greater than A\n"
          ]
        }
      ]
    },
    {
      "cell_type": "code",
      "source": [
        "number=int(input())\n",
        "\n",
        "\n",
        "print(\"Multiplication Table for\",number,\":\")\n",
        "for i in range(1,11):\n",
        "  result = number * i\n",
        "  print(f\"{number} x {i}={result}\")"
      ],
      "metadata": {
        "colab": {
          "base_uri": "https://localhost:8080/"
        },
        "id": "-W6LyPp0JfmQ",
        "outputId": "55380dd4-6c5e-41e2-eb29-96f581d4e626"
      },
      "execution_count": null,
      "outputs": [
        {
          "output_type": "stream",
          "name": "stdout",
          "text": [
            "12\n",
            "Multiplication Table for 12 :\n",
            "12 x 1=12\n",
            "12 x 2=24\n",
            "12 x 3=36\n",
            "12 x 4=48\n",
            "12 x 5=60\n",
            "12 x 6=72\n",
            "12 x 7=84\n",
            "12 x 8=96\n",
            "12 x 9=108\n",
            "12 x 10=120\n"
          ]
        }
      ]
    }
  ]
}